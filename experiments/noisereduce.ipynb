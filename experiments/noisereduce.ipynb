{
 "cells": [
  {
   "cell_type": "code",
   "execution_count": null,
   "metadata": {},
   "outputs": [],
   "source": [
    "import os\n",
    "import librosa\n",
    "import librosa.display\n",
    "import noisereduce as nr\n",
    "import matplotlib.pyplot as plt\n",
    "import IPython.display as ipd\n",
    "import numpy as np\n",
    "import soundfile as sf"
   ]
  },
  {
   "cell_type": "code",
   "execution_count": null,
   "metadata": {},
   "outputs": [],
   "source": [
    "sr0_file = \"../data/gopro-noise-data/SR0.wav\"\n",
    "sr0, sr = librosa.load(sr0_file)\n",
    "ipd.Audio(sr0_file)"
   ]
  },
  {
   "cell_type": "code",
   "execution_count": null,
   "metadata": {},
   "outputs": [],
   "source": [
    "FRAME_SIZE = 2048\n",
    "HOP_SIZE = 512\n",
    "S_sr0 = librosa.stft(sr0, n_fft=FRAME_SIZE, hop_length=HOP_SIZE)\n",
    "print(S_sr0.shape)\n",
    "print(type(S_sr0[0][0]))\n",
    "\n",
    "Y_sr0 = np.abs(S_sr0) ** 2\n",
    "Y_log_sr0 = librosa.power_to_db(Y_sr0)\n",
    "print(f\"\\n{type(Y_log_sr0[0][0])}\")\n",
    "\n",
    "\n"
   ]
  },
  {
   "cell_type": "code",
   "execution_count": null,
   "metadata": {},
   "outputs": [],
   "source": [
    "def process_wav_file(f, FRAME_SIZE = 2048, HOP_SIZE = 512, skip_read=False):\n",
    "    if skip_read: \n",
    "        sr = np.NaN\n",
    "    else: \n",
    "        audio, sr = librosa.load(f)\n",
    "    D = librosa.stft(audio, n_fft=FRAME_SIZE, hop_length=HOP_SIZE)\n",
    "    D = np.abs(D) ** 2\n",
    "    D = librosa.power_to_db(D)\n",
    "    return audio, sr, D"
   ]
  },
  {
   "cell_type": "code",
   "execution_count": null,
   "metadata": {},
   "outputs": [],
   "source": [
    "\n",
    "def plot_spectrogram(Y, sr, hop_length, y_axis=\"linear\"):\n",
    "    plt.figure(figsize=(6, 2))\n",
    "    librosa.display.specshow(Y, \n",
    "                             sr=sr, \n",
    "                             hop_length=hop_length, \n",
    "                             x_axis=\"time\", \n",
    "                             y_axis=y_axis)\n",
    "    plt.colorbar(format=\"%+2.f\")\n",
    "\n",
    "def plot_waveform(audio, sr, file_name):\n",
    "    plt.figure(figsize=(6, 2))\n",
    "    librosa.display.waveshow(audio, sr=sr)\n",
    "    plt.title(f'mono wave: {file_name}')\n",
    "\n",
    "def audio_overview(wav_file=False):\n",
    "    audio, sr, D = process_wav_file(wav_file)\n",
    "    fig, (ax1, ax2) = plt.subplots(ncols=2, figsize=(12,3))\n",
    "    librosa.display.waveshow(audio, sr=sr, ax=ax1)\n",
    "    librosa.display.specshow(D, sr=sr, hop_length=512, x_axis=\"time\", y_axis=\"log\", ax=ax2)\n",
    "    # fig.set(title=wav_file.split('/')[-1], figsize=(12,3))\n",
    "    fig.suptitle(wav_file.split('/')[-1])\n",
    "    \n",
    "    # plot_waveform(audio, sr, file_name)\n",
    "    # plot_spectrogram(D, sr, HOP_SIZE, y_axis=\"log\")\n",
    "    # ipd.Audio(wav_file)\n",
    "    # fig.show()\n",
    "\n",
    "\n",
    "\n",
    "# plot_spectrogram(Y_log_sr0, sr, HOP_SIZE, y_axis=\"log\")\n",
    "f = \"../data/gopro-noise-data/SR4.wav\"\n",
    "audio_overview(f)\n",
    "ipd.Audio(f)"
   ]
  },
  {
   "cell_type": "code",
   "execution_count": null,
   "metadata": {},
   "outputs": [],
   "source": [
    "import soundfile as sf\n",
    "sf.write('stereo_file1.wav', np.ravel(np.abs(sr0_reduced)), sr)"
   ]
  },
  {
   "cell_type": "code",
   "execution_count": null,
   "metadata": {},
   "outputs": [],
   "source": [
    "ipd.Audio('stereo_file1.wav')"
   ]
  },
  {
   "cell_type": "code",
   "execution_count": null,
   "metadata": {},
   "outputs": [],
   "source": [
    "sr0_reduced = nr.reduce_noise(y=S_sr0, sr=sr)\n",
    "sr0_reduced_Y, _ = file_to_Y_log(np.abs(sr0_reduced), skip_read=True)\n",
    "plot_spectrogram(sr0_reduced_Y, sr, HOP_SIZE, y_axis=\"log\")"
   ]
  },
  {
   "cell_type": "code",
   "execution_count": null,
   "metadata": {},
   "outputs": [],
   "source": [
    "f, sr = file_to_Y_log(\"../data/gopro-,noise-data/SR6.wav\")\n",
    "plot_spectrogram(f, sr, HOP_SIZE, y_axis=\"log\")"
   ]
  },
  {
   "cell_type": "code",
   "execution_count": null,
   "metadata": {},
   "outputs": [],
   "source": []
  }
 ],
 "metadata": {
  "kernelspec": {
   "display_name": "Python 3",
   "language": "python",
   "name": "python3"
  },
  "language_info": {
   "codemirror_mode": {
    "name": "ipython",
    "version": 3
   },
   "file_extension": ".py",
   "mimetype": "text/x-python",
   "name": "python",
   "nbconvert_exporter": "python",
   "pygments_lexer": "ipython3",
   "version": "3.11.0"
  },
  "orig_nbformat": 4
 },
 "nbformat": 4,
 "nbformat_minor": 2
}
