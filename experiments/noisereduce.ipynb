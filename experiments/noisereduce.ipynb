{
 "cells": [
  {
   "cell_type": "code",
   "execution_count": null,
   "metadata": {},
   "outputs": [],
   "source": [
    "import os\n",
    "import librosa\n",
    "import librosa.display\n",
    "import noisereduce as nr\n",
    "import matplotlib.pyplot as plt\n",
    "import IPython.display as ipd\n",
    "import numpy as np\n",
    "import soundfile as sf"
   ]
  },
  {
   "cell_type": "code",
   "execution_count": null,
   "metadata": {},
   "outputs": [],
   "source": [
    "def process_wav_file(file_name=\"\", aud_array=None, FRAME_SIZE = 2048, HOP_SIZE = 512, skip_read=False):\n",
    "    if file_name: \n",
    "        audio, sr = librosa.load(file_name)\n",
    "        # or sf.read(file_name)\n",
    "    else: \n",
    "        audio = aud_array\n",
    "        sr = np.NaN\n",
    "    D = librosa.stft(audio, n_fft=FRAME_SIZE, hop_length=HOP_SIZE)\n",
    "    D = np.abs(D) ** 2\n",
    "    D = librosa.power_to_db(D)\n",
    "    return audio, sr, D\n",
    "\n",
    "\n",
    "def plot_spectrogram(Y, sr, hop_length, y_axis=\"linear\"):\n",
    "    plt.figure(figsize=(6, 2))\n",
    "    librosa.display.specshow(Y, \n",
    "                             sr=sr, \n",
    "                             hop_length=hop_length, \n",
    "                             x_axis=\"time\", \n",
    "                             y_axis=y_axis)\n",
    "    plt.colorbar(format=\"%+2.f\")\n",
    "\n",
    "def plot_waveform(audio, sr, file_name):\n",
    "    plt.figure(figsize=(6, 2))\n",
    "    librosa.display.waveshow(audio, sr=sr)\n",
    "    plt.title(f'mono wave: {file_name}')\n",
    "\n",
    "def audio_overview(wav_file=False, audio=None, sr=None, name=None):\n",
    "    if wav_file:\n",
    "        audio, sr, D = process_wav_file(wav_file)\n",
    "    else:\n",
    "        _, _, D = process_wav_file(aud_array=audio)\n",
    "    fig, (ax1, ax2) = plt.subplots(ncols=2, figsize=(18,3))\n",
    "    librosa.display.waveshow(audio, sr=sr, ax=ax1, color=\"blue\")\n",
    "    librosa.display.specshow(D, sr=sr, hop_length=512, x_axis=\"time\", y_axis=\"log\", ax=ax2)\n",
    "    # fig.set(title=wav_file.split('/')[-1], figsize=(12,3))\n",
    "    fig.suptitle(name if name else wav_file.split('/')[-1])\n",
    "    \n",
    "    # plot_waveform(audio, sr, file_name)\n",
    "    # plot_spectrogram(D, sr, HOP_SIZE, y_axis=\"log\")\n",
    "    # ipd.Audio(wav_file)\n",
    "    # fig.show()\n",
    "\n"
   ]
  },
  {
   "cell_type": "code",
   "execution_count": null,
   "metadata": {},
   "outputs": [],
   "source": [
    "f = \"../data/gopro-noise-data/SR4.wav\"\n",
    "audio_overview(f)\n",
    "ipd.Audio(f)"
   ]
  },
  {
   "cell_type": "code",
   "execution_count": null,
   "metadata": {},
   "outputs": [],
   "source": [
    "aud, sr = librosa.load(f)\n",
    "print(aud.shape)\n",
    "aud_red = nr.reduce_noise(y=aud, sr=sr)\n",
    "print(aud_red.shape)\n",
    "audio_overview(audio=aud_red, sr=sr, name=f'{f} reduced')\n",
    "ipd.Audio(data=aud_red, rate=sr)\n"
   ]
  },
  {
   "cell_type": "code",
   "execution_count": null,
   "metadata": {},
   "outputs": [],
   "source": [
    "aud, sr = librosa.load(f)\n",
    "print(aud.shape)\n",
    "aud_red_stationary = nr.reduce_noise(y=aud, sr=sr, stationary=True)\n",
    "print(aud_red_stationary.shape)\n",
    "audio_overview(audio=aud_red_stationary, sr=sr, name=f'{f} aud_red_stationary')\n",
    "ipd.Audio(data=aud_red_stationary, rate=sr) "
   ]
  },
  {
   "cell_type": "code",
   "execution_count": null,
   "metadata": {},
   "outputs": [],
   "source": [
    "\n",
    "sf.write('stereo_file1.wav', np.ravel(np.abs(sr0_reduced)), sr)"
   ]
  },
  {
   "cell_type": "code",
   "execution_count": null,
   "metadata": {},
   "outputs": [],
   "source": [
    "ipd.Audio('stereo_file1.wav')"
   ]
  },
  {
   "cell_type": "code",
   "execution_count": null,
   "metadata": {},
   "outputs": [],
   "source": [
    "sr0_reduced = nr.reduce_noise(y=S_sr0, sr=sr)\n",
    "sr0_reduced_Y, _ = file_to_Y_log(np.abs(sr0_reduced), skip_read=True)\n",
    "plot_spectrogram(sr0_reduced_Y, sr, HOP_SIZE, y_axis=\"log\")"
   ]
  },
  {
   "cell_type": "code",
   "execution_count": null,
   "metadata": {},
   "outputs": [],
   "source": [
    "f, sr = file_to_Y_log(\"../data/gopro-,noise-data/SR6.wav\")\n",
    "plot_spectrogram(f, sr, HOP_SIZE, y_axis=\"log\")"
   ]
  },
  {
   "cell_type": "markdown",
   "metadata": {},
   "source": [
    "## Evaluating noise profiles"
   ]
  },
  {
   "cell_type": "code",
   "execution_count": null,
   "metadata": {},
   "outputs": [],
   "source": [
    "f = \"../data/gopro-clipped/10kmph_v1.wav\"\n",
    "f_clip = \"../data/gopro-clipped/10kmph_clip_v1.wav\"\n",
    "\n",
    "aud, sr = librosa.load(f)\n",
    "clip, _ = librosa.load(f_clip)\n",
    "\n",
    "aud_red = nr.reduce_noise(y=aud, sr=sr, y_noise=clip)\n",
    "aud_red_stationary = nr.reduce_noise(y=aud, sr=sr, y_noise=clip, stationary=True)"
   ]
  },
  {
   "cell_type": "code",
   "execution_count": null,
   "metadata": {},
   "outputs": [],
   "source": [
    "audio_overview(audio=aud_red, sr=sr, name=f'10kmph reduced clip+non-s')\n",
    "ipd.Audio(data=aud_red, rate=sr)"
   ]
  },
  {
   "cell_type": "code",
   "execution_count": null,
   "metadata": {},
   "outputs": [],
   "source": [
    "audio_overview(audio=aud_red_stationary, sr=sr, name=f'10kmph reduced clip+stat')\n",
    "ipd.Audio(data=aud_red_stationary, rate=sr)"
   ]
  },
  {
   "cell_type": "code",
   "execution_count": null,
   "metadata": {},
   "outputs": [],
   "source": []
  }
 ],
 "metadata": {
  "kernelspec": {
   "display_name": "Python 3",
   "language": "python",
   "name": "python3"
  },
  "language_info": {
   "codemirror_mode": {
    "name": "ipython",
    "version": 3
   },
   "file_extension": ".py",
   "mimetype": "text/x-python",
   "name": "python",
   "nbconvert_exporter": "python",
   "pygments_lexer": "ipython3",
   "version": "3.12.3"
  },
  "orig_nbformat": 4
 },
 "nbformat": 4,
 "nbformat_minor": 2
}
