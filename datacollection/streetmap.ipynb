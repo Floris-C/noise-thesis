{
 "cells": [
  {
   "cell_type": "code",
   "execution_count": 7,
   "metadata": {},
   "outputs": [],
   "source": [
    "import overpass\n",
    "import json\n",
    "api = overpass.API(timeout=600)"
   ]
  },
  {
   "cell_type": "code",
   "execution_count": 17,
   "metadata": {},
   "outputs": [
    {
     "ename": "OverpassSyntaxError",
     "evalue": "[out:json];node[4.9641 52.0415 5.212 52.1432];out body;",
     "output_type": "error",
     "traceback": [
      "\u001b[1;31m---------------------------------------------------------------------------\u001b[0m",
      "\u001b[1;31mOverpassSyntaxError\u001b[0m                       Traceback (most recent call last)",
      "Cell \u001b[1;32mIn[17], line 2\u001b[0m\n\u001b[0;32m      1\u001b[0m bbox \u001b[38;5;241m=\u001b[39m [\u001b[38;5;241m4.9641\u001b[39m, \u001b[38;5;241m52.0415\u001b[39m, \u001b[38;5;241m5.212\u001b[39m, \u001b[38;5;241m52.1432\u001b[39m]\n\u001b[1;32m----> 2\u001b[0m response \u001b[38;5;241m=\u001b[39m \u001b[43mapi\u001b[49m\u001b[38;5;241;43m.\u001b[39;49m\u001b[43mget\u001b[49m\u001b[43m(\u001b[49m\u001b[38;5;124;43mf\u001b[39;49m\u001b[38;5;124;43m'\u001b[39;49m\u001b[38;5;124;43mnode[\u001b[39;49m\u001b[38;5;132;43;01m{\u001b[39;49;00m\u001b[38;5;124;43m'\u001b[39;49m\u001b[38;5;124;43m \u001b[39;49m\u001b[38;5;124;43m'\u001b[39;49m\u001b[38;5;241;43m.\u001b[39;49m\u001b[43mjoin\u001b[49m\u001b[43m(\u001b[49m\u001b[43m[\u001b[49m\u001b[38;5;28;43mstr\u001b[39;49m\u001b[43m(\u001b[49m\u001b[43mi\u001b[49m\u001b[43m)\u001b[49m\u001b[38;5;250;43m \u001b[39;49m\u001b[38;5;28;43;01mfor\u001b[39;49;00m\u001b[38;5;250;43m \u001b[39;49m\u001b[43mi\u001b[49m\u001b[38;5;250;43m \u001b[39;49m\u001b[38;5;129;43;01min\u001b[39;49;00m\u001b[38;5;250;43m \u001b[39;49m\u001b[43mbbox\u001b[49m\u001b[43m]\u001b[49m\u001b[43m)\u001b[49m\u001b[38;5;132;43;01m}\u001b[39;49;00m\u001b[38;5;124;43m]\u001b[39;49m\u001b[38;5;124;43m'\u001b[39;49m\u001b[43m)\u001b[49m\n\u001b[0;32m      3\u001b[0m response\n",
      "File \u001b[1;32mc:\\Users\\flori\\!projects\\noise-these\\noise-thesis\\.venv\\Lib\\site-packages\\overpass\\api.py:97\u001b[0m, in \u001b[0;36mAPI.get\u001b[1;34m(self, query, responseformat, verbosity, build)\u001b[0m\n\u001b[0;32m     94\u001b[0m     logging\u001b[38;5;241m.\u001b[39mgetLogger()\u001b[38;5;241m.\u001b[39minfo(query)\n\u001b[0;32m     96\u001b[0m \u001b[38;5;66;03m# Get the response from Overpass\u001b[39;00m\n\u001b[1;32m---> 97\u001b[0m r \u001b[38;5;241m=\u001b[39m \u001b[38;5;28;43mself\u001b[39;49m\u001b[38;5;241;43m.\u001b[39;49m\u001b[43m_get_from_overpass\u001b[49m\u001b[43m(\u001b[49m\u001b[43mfull_query\u001b[49m\u001b[43m)\u001b[49m\n\u001b[0;32m     98\u001b[0m content_type \u001b[38;5;241m=\u001b[39m r\u001b[38;5;241m.\u001b[39mheaders\u001b[38;5;241m.\u001b[39mget(\u001b[38;5;124m\"\u001b[39m\u001b[38;5;124mcontent-type\u001b[39m\u001b[38;5;124m\"\u001b[39m)\n\u001b[0;32m    100\u001b[0m \u001b[38;5;28;01mif\u001b[39;00m \u001b[38;5;28mself\u001b[39m\u001b[38;5;241m.\u001b[39mdebug:\n",
      "File \u001b[1;32mc:\\Users\\flori\\!projects\\noise-these\\noise-thesis\\.venv\\Lib\\site-packages\\overpass\\api.py:177\u001b[0m, in \u001b[0;36mAPI._get_from_overpass\u001b[1;34m(self, query)\u001b[0m\n\u001b[0;32m    175\u001b[0m \u001b[38;5;28;01mif\u001b[39;00m \u001b[38;5;28mself\u001b[39m\u001b[38;5;241m.\u001b[39m_status \u001b[38;5;241m!=\u001b[39m \u001b[38;5;241m200\u001b[39m:\n\u001b[0;32m    176\u001b[0m     \u001b[38;5;28;01mif\u001b[39;00m \u001b[38;5;28mself\u001b[39m\u001b[38;5;241m.\u001b[39m_status \u001b[38;5;241m==\u001b[39m \u001b[38;5;241m400\u001b[39m:\n\u001b[1;32m--> 177\u001b[0m         \u001b[38;5;28;01mraise\u001b[39;00m OverpassSyntaxError(query)\n\u001b[0;32m    178\u001b[0m     \u001b[38;5;28;01melif\u001b[39;00m \u001b[38;5;28mself\u001b[39m\u001b[38;5;241m.\u001b[39m_status \u001b[38;5;241m==\u001b[39m \u001b[38;5;241m429\u001b[39m:\n\u001b[0;32m    179\u001b[0m         \u001b[38;5;28;01mraise\u001b[39;00m MultipleRequestsError()\n",
      "\u001b[1;31mOverpassSyntaxError\u001b[0m: [out:json];node[4.9641 52.0415 5.212 52.1432];out body;"
     ]
    }
   ],
   "source": [
    "bbox = [4.9641, 52.0415, 5.212, 52.1432]\n",
    "response = api.get(f'node[{' '.join([str(i) for i in bbox])}]')\n",
    "response"
   ]
  },
  {
   "cell_type": "code",
   "execution_count": 11,
   "metadata": {},
   "outputs": [],
   "source": [
    "MapQuery = overpass.MapQuery(4.9641, 52.0415, 5.212, 52.1432)\n",
    "response = api.get(MapQuery)"
   ]
  },
  {
   "cell_type": "code",
   "execution_count": 12,
   "metadata": {},
   "outputs": [
    {
     "data": {
      "text/plain": [
       "{\"features\": [], \"type\": \"FeatureCollection\"}"
      ]
     },
     "execution_count": 12,
     "metadata": {},
     "output_type": "execute_result"
    }
   ],
   "source": [
    "response"
   ]
  },
  {
   "cell_type": "code",
   "execution_count": 13,
   "metadata": {},
   "outputs": [
    {
     "ename": "UnknownOverpassError",
     "evalue": "Received corrupt data from Overpass (incomplete polygon).",
     "output_type": "error",
     "traceback": [
      "\u001b[1;31m---------------------------------------------------------------------------\u001b[0m",
      "\u001b[1;31mUnknownOverpassError\u001b[0m                      Traceback (most recent call last)",
      "Cell \u001b[1;32mIn[13], line 2\u001b[0m\n\u001b[0;32m      1\u001b[0m MapQuery \u001b[38;5;241m=\u001b[39m overpass\u001b[38;5;241m.\u001b[39mMapQuery(\u001b[38;5;241m50.746\u001b[39m,\u001b[38;5;241m7.154\u001b[39m,\u001b[38;5;241m50.748\u001b[39m,\u001b[38;5;241m7.157\u001b[39m)\n\u001b[1;32m----> 2\u001b[0m response \u001b[38;5;241m=\u001b[39m \u001b[43mapi\u001b[49m\u001b[38;5;241;43m.\u001b[39;49m\u001b[43mget\u001b[49m\u001b[43m(\u001b[49m\u001b[43mMapQuery\u001b[49m\u001b[43m)\u001b[49m\n\u001b[0;32m      3\u001b[0m response\n",
      "File \u001b[1;32mc:\\Users\\flori\\!projects\\noise-these\\noise-thesis\\.venv\\Lib\\site-packages\\overpass\\api.py:130\u001b[0m, in \u001b[0;36mAPI.get\u001b[1;34m(self, query, responseformat, verbosity, build)\u001b[0m\n\u001b[0;32m    127\u001b[0m     \u001b[38;5;28;01mreturn\u001b[39;00m response\n\u001b[0;32m    129\u001b[0m \u001b[38;5;66;03m# construct geojson\u001b[39;00m\n\u001b[1;32m--> 130\u001b[0m \u001b[38;5;28;01mreturn\u001b[39;00m \u001b[38;5;28;43mself\u001b[39;49m\u001b[38;5;241;43m.\u001b[39;49m\u001b[43m_as_geojson\u001b[49m\u001b[43m(\u001b[49m\u001b[43mresponse\u001b[49m\u001b[43m[\u001b[49m\u001b[38;5;124;43m\"\u001b[39;49m\u001b[38;5;124;43melements\u001b[39;49m\u001b[38;5;124;43m\"\u001b[39;49m\u001b[43m]\u001b[49m\u001b[43m)\u001b[49m\n",
      "File \u001b[1;32mc:\\Users\\flori\\!projects\\noise-these\\noise-thesis\\.venv\\Lib\\site-packages\\overpass\\api.py:214\u001b[0m, in \u001b[0;36mAPI._as_geojson\u001b[1;34m(self, elements)\u001b[0m\n\u001b[0;32m    212\u001b[0m             polygons\u001b[38;5;241m.\u001b[39mappend([points])\n\u001b[0;32m    213\u001b[0m         \u001b[38;5;28;01melse\u001b[39;00m:\n\u001b[1;32m--> 214\u001b[0m             \u001b[38;5;28;01mraise\u001b[39;00m UnknownOverpassError(\u001b[38;5;124m\"\u001b[39m\u001b[38;5;124mReceived corrupt data from Overpass (incomplete polygon).\u001b[39m\u001b[38;5;124m\"\u001b[39m)\n\u001b[0;32m    215\u001b[0m \u001b[38;5;66;03m# Then get the inner polygons\u001b[39;00m\n\u001b[0;32m    216\u001b[0m \u001b[38;5;28;01mfor\u001b[39;00m member \u001b[38;5;129;01min\u001b[39;00m elem\u001b[38;5;241m.\u001b[39mget(\u001b[38;5;124m\"\u001b[39m\u001b[38;5;124mmembers\u001b[39m\u001b[38;5;124m\"\u001b[39m, []):\n",
      "\u001b[1;31mUnknownOverpassError\u001b[0m: Received corrupt data from Overpass (incomplete polygon)."
     ]
    }
   ],
   "source": [
    "MapQuery = overpass.MapQuery(50.746,7.154,50.748,7.157)\n",
    "response = api.get(MapQuery)\n",
    "response"
   ]
  },
  {
   "cell_type": "code",
   "execution_count": null,
   "metadata": {},
   "outputs": [],
   "source": []
  }
 ],
 "metadata": {
  "kernelspec": {
   "display_name": ".venv",
   "language": "python",
   "name": "python3"
  },
  "language_info": {
   "codemirror_mode": {
    "name": "ipython",
    "version": 3
   },
   "file_extension": ".py",
   "mimetype": "text/x-python",
   "name": "python",
   "nbconvert_exporter": "python",
   "pygments_lexer": "ipython3",
   "version": "3.12.3"
  }
 },
 "nbformat": 4,
 "nbformat_minor": 2
}
