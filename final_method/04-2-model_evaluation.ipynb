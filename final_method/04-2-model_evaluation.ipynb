{
 "cells": [
  {
   "cell_type": "code",
   "execution_count": 1,
   "metadata": {},
   "outputs": [],
   "source": [
    "# input\n",
    "data_nodes_input_path = '..\\\\output\\\\final_data_nodes.GEOJSON'\n",
    "random_seed = 4\n",
    "\n",
    "x_cols = ['maxspeed', 'bridge', 'junction', 'building_height',\n",
    "          'dist_to_train', 'dist_to_recreation', 'landuse_is_residential', \n",
    "          'landuse_is_commercial', 'landuse_is_industrial', 'rt_highway', \n",
    "          'rt_trunk', 'rt_primary', 'rt_secondary','rt_tertiary', \n",
    "          'rt_unclassified', 'rt_residential', 'rt_living_street',\n",
    "          'rt_busway', 'rt_service',]\n",
    "c_cols = ['x', 'y']"
   ]
  },
  {
   "cell_type": "code",
   "execution_count": 2,
   "metadata": {},
   "outputs": [],
   "source": [
    "import os\n",
    "import sys\n",
    "import random\n",
    "import numpy as np\n",
    "import pandas as pd\n",
    "import geopandas as gpd\n",
    "import contextily as cx\n",
    "pd.options.mode.copy_on_write = True\n",
    "pd.set_option('display.max_columns', 500)\n",
    "# libs\n",
    "from sklearn.ensemble import RandomForestRegressor\n",
    "from pykrige.rk import RegressionKriging\n",
    "from sklearn.metrics import r2_score, root_mean_squared_error\n",
    "\n",
    "import matplotlib as mpl\n",
    "import matplotlib.pyplot as plt\n"
   ]
  },
  {
   "cell_type": "code",
   "execution_count": 3,
   "metadata": {},
   "outputs": [],
   "source": [
    "class HiddenPrints:\n",
    "    def __enter__(self):\n",
    "        self._original_stdout = sys.stdout\n",
    "        sys.stdout = open(os.devnull, 'w')\n",
    "\n",
    "    def __exit__(self, exc_type, exc_val, exc_tb):\n",
    "        sys.stdout.close()\n",
    "        sys.stdout = self._original_stdout"
   ]
  },
  {
   "cell_type": "code",
   "execution_count": 5,
   "metadata": {},
   "outputs": [
    {
     "name": "stdout",
     "output_type": "stream",
     "text": [
      "[10  5 12  9 14  3  0  8 13  2 15  6 11  1  4  7]\n",
      "[10  5 12  9 14  3  0  8 13  2 15  6 11  1  4  7]\n"
     ]
    }
   ],
   "source": [
    "gdf = gpd.read_file(data_nodes_input_path, engine='pyogrio')\n",
    "gdf_measured = gdf[gdf['dBA_raw'].notna()]\n",
    "gdf_measured_slt20 = gdf[gdf['dBA_raw_slt20'].notna()]\n",
    "\n",
    "def create_spatial_folds(df, no_of_folds=16):\n",
    "\n",
    "    def create_fold_arr(sorted_df, no_folds):\n",
    "        fold_arr = np.concatenate([np.full((sorted_df.shape[0] // no_folds), i) for i in range(no_folds-1)])\n",
    "        fold_arr = np.concatenate((fold_arr, np.full(sorted_df.shape[0]-len(fold_arr), no_folds-1)))\n",
    "        return fold_arr\n",
    "    # no_of_folds must be the square of some integer (i.e. 1,4,9,16,...)\n",
    "    df = df.sort_values(by=['x', 'y']).reset_index(drop=True)\n",
    "    df['xf'] = create_fold_arr(df, int(np.sqrt(no_of_folds)))\n",
    "    df = df.sort_values(by=['xf', 'y']).reset_index(drop=True)\n",
    "    df['fold'] = create_fold_arr(df, no_of_folds)\n",
    "    return df\n",
    "\n",
    "def spatial_train_test_split(gdf, no_test_folds, random_state=1, fold_col='fold'):\n",
    "    \"\"\"\n",
    "    spatial folds\n",
    "    \"\"\"\n",
    "    random.seed(random_state)\n",
    "    folds = gdf[fold_col].unique()\n",
    "    random.shuffle(folds)\n",
    "    print(folds)\n",
    "    return gdf[gdf[fold_col].isin(folds[no_test_folds:])], gdf[gdf[fold_col].isin(folds[:no_test_folds])]\n",
    "\n",
    "gdf_measured = create_spatial_folds(gdf_measured)\n",
    "gdf_measured_slt20 = create_spatial_folds(gdf_measured_slt20)\n",
    "train_measured, test_measured = spatial_train_test_split(gdf_measured, 6, random_seed)\n",
    "train_slt20, test_slt20 = spatial_train_test_split(gdf_measured_slt20, 6, random_seed)\n"
   ]
  },
  {
   "cell_type": "code",
   "execution_count": null,
   "metadata": {},
   "outputs": [],
   "source": [
    "def get_new_model():\n",
    "    model = RandomForestRegressor\n",
    "    model_parameters = {'n_estimators': 50,\n",
    "                        'max_depth': 10,\n",
    "                        'min_samples_split': 10,\n",
    "                        'min_samples_leaf': 4,\n",
    "                        'max_features': 2,\n",
    "                        'random_state': 12}\n",
    "    kriging_parameters = {'n_closest_points': 20, \n",
    "                          'nlags': 6}\n",
    "\n",
    "    return RegressionKriging(model(**model_parameters), **kriging_parameters)\n",
    "\n",
    "def do_model(train, test, ycol):\n",
    "    m = get_new_model()\n",
    "    with HiddenPrints():\n",
    "        m.fit(train[x_cols].values, train[c_cols].values, train[ycol].values)\n",
    "    p = m.predict(test[x_cols].values, test[c_cols].values)\n",
    "    print(f'r2  : {r2_score(test[ycol].values, p):.3f}')\n",
    "    print(f'rmse: {root_mean_squared_error(test[ycol].values, p):.3f}')\n"
   ]
  },
  {
   "cell_type": "code",
   "execution_count": 6,
   "metadata": {},
   "outputs": [
    {
     "name": "stdout",
     "output_type": "stream",
     "text": [
      "r2  : 0.310\n",
      "rmse: 6.670\n"
     ]
    }
   ],
   "source": [
    "do_model(train_measured, test_measured, 'dBA_raw')"
   ]
  },
  {
   "cell_type": "code",
   "execution_count": 7,
   "metadata": {},
   "outputs": [
    {
     "name": "stdout",
     "output_type": "stream",
     "text": [
      "r2  : 0.310\n",
      "rmse: 6.670\n"
     ]
    }
   ],
   "source": [
    "do_model(train_measured, test_measured, 'dBA_raw')"
   ]
  },
  {
   "cell_type": "code",
   "execution_count": 8,
   "metadata": {},
   "outputs": [
    {
     "name": "stdout",
     "output_type": "stream",
     "text": [
      "r2  : 0.310\n",
      "rmse: 6.670\n"
     ]
    }
   ],
   "source": [
    "do_model(train_measured, test_measured, 'dBA_raw')"
   ]
  },
  {
   "cell_type": "code",
   "execution_count": 9,
   "metadata": {},
   "outputs": [
    {
     "ename": "Exception",
     "evalue": "",
     "output_type": "error",
     "traceback": [
      "\u001b[1;31m---------------------------------------------------------------------------\u001b[0m",
      "\u001b[1;31mException\u001b[0m                                 Traceback (most recent call last)",
      "Cell \u001b[1;32mIn[9], line 1\u001b[0m\n\u001b[1;32m----> 1\u001b[0m \u001b[38;5;28;01mraise\u001b[39;00m \u001b[38;5;167;01mException\u001b[39;00m()\n",
      "\u001b[1;31mException\u001b[0m: "
     ]
    }
   ],
   "source": [
    "raise Exception()"
   ]
  },
  {
   "cell_type": "code",
   "execution_count": null,
   "metadata": {},
   "outputs": [
    {
     "name": "stdout",
     "output_type": "stream",
     "text": [
      "r2  : 0.310\n",
      "rmse: 6.670\n"
     ]
    }
   ],
   "source": [
    "do_model(train_measured, test_measured, 'dBA_raw')"
   ]
  },
  {
   "cell_type": "code",
   "execution_count": null,
   "metadata": {},
   "outputs": [],
   "source": []
  }
 ],
 "metadata": {
  "kernelspec": {
   "display_name": ".venv",
   "language": "python",
   "name": "python3"
  },
  "language_info": {
   "codemirror_mode": {
    "name": "ipython",
    "version": 3
   },
   "file_extension": ".py",
   "mimetype": "text/x-python",
   "name": "python",
   "nbconvert_exporter": "python",
   "pygments_lexer": "ipython3",
   "version": "3.12.3"
  }
 },
 "nbformat": 4,
 "nbformat_minor": 2
}
